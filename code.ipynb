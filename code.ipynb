{
 "cells": [
  {
   "cell_type": "code",
   "execution_count": 5,
   "id": "0fb29857",
   "metadata": {},
   "outputs": [],
   "source": [
    "import pandas as pd\n",
    "import numpy as np\n",
    "import wordcloud\n",
    "import string\n",
    "from wordcloud_fa import WordCloudFa\n",
    "from IPython.display import Image\n",
    "\n"
   ]
  },
  {
   "attachments": {},
   "cell_type": "markdown",
   "id": "5915fb07",
   "metadata": {},
   "source": [
    "<br>"
   ]
  },
  {
   "attachments": {},
   "cell_type": "markdown",
   "id": "9b1adf5d",
   "metadata": {},
   "source": [
    "### cleaning the data:\n",
    "Let's read the txt file into a dataframe and  remove the english words , puctuation marks and rows with Nan value"
   ]
  },
  {
   "cell_type": "code",
   "execution_count": 6,
   "id": "606a751d",
   "metadata": {},
   "outputs": [
    {
     "data": {
      "text/html": [
       "<div>\n",
       "<style scoped>\n",
       "    .dataframe tbody tr th:only-of-type {\n",
       "        vertical-align: middle;\n",
       "    }\n",
       "\n",
       "    .dataframe tbody tr th {\n",
       "        vertical-align: top;\n",
       "    }\n",
       "\n",
       "    .dataframe thead th {\n",
       "        text-align: right;\n",
       "    }\n",
       "</style>\n",
       "<table border=\"1\" class=\"dataframe\">\n",
       "  <thead>\n",
       "    <tr style=\"text-align: right;\">\n",
       "      <th></th>\n",
       "      <th>selection1_name</th>\n",
       "    </tr>\n",
       "  </thead>\n",
       "  <tbody>\n",
       "    <tr>\n",
       "      <th>0</th>\n",
       "      <td>متن آهنگ از خودم بدم میاد کچی بیتز</td>\n",
       "    </tr>\n",
       "    <tr>\n",
       "      <th>1</th>\n",
       "      <td>تکست آهنگ جدید کچی بیتز (خشایار ) به نام از خو...</td>\n",
       "    </tr>\n",
       "    <tr>\n",
       "      <th>2</th>\n",
       "      <td>–</td>\n",
       "    </tr>\n",
       "    <tr>\n",
       "      <th>4</th>\n",
       "      <td>این واسه همه اون هائیه که از خودشون بدشون میاد...</td>\n",
       "    </tr>\n",
       "    <tr>\n",
       "      <th>5</th>\n",
       "      <td>یه حسه توو من، من از خودم بدم میادچون وقتی همه...</td>\n",
       "    </tr>\n",
       "    <tr>\n",
       "      <th>6</th>\n",
       "      <td>از خودم بدم میاد، چون میگفتین اعتصاب و میرفتم ...</td>\n",
       "    </tr>\n",
       "    <tr>\n",
       "      <th>7</th>\n",
       "      <td>از خودم بدم میاد چون هیچ قدمی برنداشتم واسه عد...</td>\n",
       "    </tr>\n",
       "    <tr>\n",
       "      <th>8</th>\n",
       "      <td>از خودم بدم میاد چون ندیدم دردتومن گرم بودم و ...</td>\n",
       "    </tr>\n",
       "    <tr>\n",
       "      <th>9</th>\n",
       "      <td>من که میگم خودمم از خودم بدم میادتو هم بیا، چو...</td>\n",
       "    </tr>\n",
       "    <tr>\n",
       "      <th>10</th>\n",
       "      <td>یه حسه توو من، من از خودم بدم میادچون وقتی همه...</td>\n",
       "    </tr>\n",
       "    <tr>\n",
       "      <th>11</th>\n",
       "      <td>متن آهنگ نمیترسم کچی بیتز</td>\n",
       "    </tr>\n",
       "    <tr>\n",
       "      <th>12</th>\n",
       "      <td>تکست آهنگ جدید کچی بیتز (خشایار ) و آرموند به ...</td>\n",
       "    </tr>\n",
       "    <tr>\n",
       "      <th>13</th>\n",
       "      <td>–</td>\n",
       "    </tr>\n",
       "    <tr>\n",
       "      <th>15</th>\n",
       "      <td>نمیترسم حتی اگه بمب بیاد از آسمونحتی اگه روم ب...</td>\n",
       "    </tr>\n",
       "    <tr>\n",
       "      <th>16</th>\n",
       "      <td>حتی اگه خونم بریزهحتی اگه گارد توو خونم بریزهم...</td>\n",
       "    </tr>\n",
       "  </tbody>\n",
       "</table>\n",
       "</div>"
      ],
      "text/plain": [
       "                                      selection1_name\n",
       "0                  متن آهنگ از خودم بدم میاد کچی بیتز\n",
       "1   تکست آهنگ جدید کچی بیتز (خشایار ) به نام از خو...\n",
       "2                                               –    \n",
       "4   این واسه همه اون هائیه که از خودشون بدشون میاد...\n",
       "5   یه حسه توو من، من از خودم بدم میادچون وقتی همه...\n",
       "6   از خودم بدم میاد، چون میگفتین اعتصاب و میرفتم ...\n",
       "7   از خودم بدم میاد چون هیچ قدمی برنداشتم واسه عد...\n",
       "8   از خودم بدم میاد چون ندیدم دردتومن گرم بودم و ...\n",
       "9   من که میگم خودمم از خودم بدم میادتو هم بیا، چو...\n",
       "10  یه حسه توو من، من از خودم بدم میادچون وقتی همه...\n",
       "11                          متن آهنگ نمیترسم کچی بیتز\n",
       "12  تکست آهنگ جدید کچی بیتز (خشایار ) و آرموند به ...\n",
       "13                                                 – \n",
       "15  نمیترسم حتی اگه بمب بیاد از آسمونحتی اگه روم ب...\n",
       "16  حتی اگه خونم بریزهحتی اگه گارد توو خونم بریزهم..."
      ]
     },
     "execution_count": 6,
     "metadata": {},
     "output_type": "execute_result"
    }
   ],
   "source": [
    "rap_lyrics = pd.read_csv(\"./per_rap.txt\", sep=\" \")\n",
    "rap_lyrics = rap_lyrics.replace('\\n','', regex=True)\n",
    "rap_lyrics = rap_lyrics.replace('\\r','', regex=True)\n",
    "rap_lyrics = rap_lyrics.dropna()\n",
    "rap_lyrics.replace('[a-zA-Z]','',regex=True, inplace = True)\n",
    "rap_lyrics.head(15)\n"
   ]
  },
  {
   "attachments": {},
   "cell_type": "markdown",
   "id": "756d06f4",
   "metadata": {},
   "source": [
    "<br>"
   ]
  },
  {
   "attachments": {},
   "cell_type": "markdown",
   "id": "90065328",
   "metadata": {},
   "source": [
    "look at row 2, as it can be seen there is nothing valuable here so it needs to go.<br>\n",
    "to delete these rows another column is made which shows the length of each row and by filtering a certain length we can get rid \n",
    "of the unnecessary rows.\n",
    "\n"
   ]
  },
  {
   "cell_type": "code",
   "execution_count": 7,
   "id": "6f5b8049",
   "metadata": {},
   "outputs": [
    {
     "data": {
      "text/html": [
       "<div>\n",
       "<style scoped>\n",
       "    .dataframe tbody tr th:only-of-type {\n",
       "        vertical-align: middle;\n",
       "    }\n",
       "\n",
       "    .dataframe tbody tr th {\n",
       "        vertical-align: top;\n",
       "    }\n",
       "\n",
       "    .dataframe thead th {\n",
       "        text-align: right;\n",
       "    }\n",
       "</style>\n",
       "<table border=\"1\" class=\"dataframe\">\n",
       "  <thead>\n",
       "    <tr style=\"text-align: right;\">\n",
       "      <th></th>\n",
       "      <th>selection1_name</th>\n",
       "      <th>length</th>\n",
       "    </tr>\n",
       "  </thead>\n",
       "  <tbody>\n",
       "    <tr>\n",
       "      <th>0</th>\n",
       "      <td>متن آهنگ از خودم بدم میاد کچی بیتز</td>\n",
       "      <td>34</td>\n",
       "    </tr>\n",
       "    <tr>\n",
       "      <th>1</th>\n",
       "      <td>تکست آهنگ جدید کچی بیتز (خشایار ) به نام از خو...</td>\n",
       "      <td>71</td>\n",
       "    </tr>\n",
       "    <tr>\n",
       "      <th>4</th>\n",
       "      <td>این واسه همه اون هائیه که از خودشون بدشون میاد...</td>\n",
       "      <td>62</td>\n",
       "    </tr>\n",
       "    <tr>\n",
       "      <th>5</th>\n",
       "      <td>یه حسه توو من، من از خودم بدم میادچون وقتی همه...</td>\n",
       "      <td>402</td>\n",
       "    </tr>\n",
       "    <tr>\n",
       "      <th>6</th>\n",
       "      <td>از خودم بدم میاد، چون میگفتین اعتصاب و میرفتم ...</td>\n",
       "      <td>361</td>\n",
       "    </tr>\n",
       "    <tr>\n",
       "      <th>7</th>\n",
       "      <td>از خودم بدم میاد چون هیچ قدمی برنداشتم واسه عد...</td>\n",
       "      <td>447</td>\n",
       "    </tr>\n",
       "    <tr>\n",
       "      <th>8</th>\n",
       "      <td>از خودم بدم میاد چون ندیدم دردتومن گرم بودم و ...</td>\n",
       "      <td>399</td>\n",
       "    </tr>\n",
       "    <tr>\n",
       "      <th>9</th>\n",
       "      <td>من که میگم خودمم از خودم بدم میادتو هم بیا، چو...</td>\n",
       "      <td>290</td>\n",
       "    </tr>\n",
       "    <tr>\n",
       "      <th>10</th>\n",
       "      <td>یه حسه توو من، من از خودم بدم میادچون وقتی همه...</td>\n",
       "      <td>163</td>\n",
       "    </tr>\n",
       "    <tr>\n",
       "      <th>11</th>\n",
       "      <td>متن آهنگ نمیترسم کچی بیتز</td>\n",
       "      <td>25</td>\n",
       "    </tr>\n",
       "    <tr>\n",
       "      <th>12</th>\n",
       "      <td>تکست آهنگ جدید کچی بیتز (خشایار ) و آرموند به ...</td>\n",
       "      <td>71</td>\n",
       "    </tr>\n",
       "    <tr>\n",
       "      <th>15</th>\n",
       "      <td>نمیترسم حتی اگه بمب بیاد از آسمونحتی اگه روم ب...</td>\n",
       "      <td>151</td>\n",
       "    </tr>\n",
       "    <tr>\n",
       "      <th>16</th>\n",
       "      <td>حتی اگه خونم بریزهحتی اگه گارد توو خونم بریزهم...</td>\n",
       "      <td>433</td>\n",
       "    </tr>\n",
       "    <tr>\n",
       "      <th>17</th>\n",
       "      <td>نمیترسم، حتی اگه بمب بیاد از آسمونحتی اگه روم ...</td>\n",
       "      <td>89</td>\n",
       "    </tr>\n",
       "    <tr>\n",
       "      <th>18</th>\n",
       "      <td>کنج خونه ننشست رفت توو دل ترسشکاش بودم مثل اون...</td>\n",
       "      <td>594</td>\n",
       "    </tr>\n",
       "  </tbody>\n",
       "</table>\n",
       "</div>"
      ],
      "text/plain": [
       "                                      selection1_name  length\n",
       "0                  متن آهنگ از خودم بدم میاد کچی بیتز      34\n",
       "1   تکست آهنگ جدید کچی بیتز (خشایار ) به نام از خو...      71\n",
       "4   این واسه همه اون هائیه که از خودشون بدشون میاد...      62\n",
       "5   یه حسه توو من، من از خودم بدم میادچون وقتی همه...     402\n",
       "6   از خودم بدم میاد، چون میگفتین اعتصاب و میرفتم ...     361\n",
       "7   از خودم بدم میاد چون هیچ قدمی برنداشتم واسه عد...     447\n",
       "8   از خودم بدم میاد چون ندیدم دردتومن گرم بودم و ...     399\n",
       "9   من که میگم خودمم از خودم بدم میادتو هم بیا، چو...     290\n",
       "10  یه حسه توو من، من از خودم بدم میادچون وقتی همه...     163\n",
       "11                          متن آهنگ نمیترسم کچی بیتز      25\n",
       "12  تکست آهنگ جدید کچی بیتز (خشایار ) و آرموند به ...      71\n",
       "15  نمیترسم حتی اگه بمب بیاد از آسمونحتی اگه روم ب...     151\n",
       "16  حتی اگه خونم بریزهحتی اگه گارد توو خونم بریزهم...     433\n",
       "17  نمیترسم، حتی اگه بمب بیاد از آسمونحتی اگه روم ...      89\n",
       "18  کنج خونه ننشست رفت توو دل ترسشکاش بودم مثل اون...     594"
      ]
     },
     "execution_count": 7,
     "metadata": {},
     "output_type": "execute_result"
    }
   ],
   "source": [
    "rap_lyrics['length'] = rap_lyrics.selection1_name.str.len()\n",
    "rap_lyrics = rap_lyrics[rap_lyrics.length > 10]\n",
    "rap_lyrics.head(15)"
   ]
  },
  {
   "attachments": {},
   "cell_type": "markdown",
   "id": "53244dcc",
   "metadata": {},
   "source": [
    "<br>"
   ]
  },
  {
   "attachments": {},
   "cell_type": "markdown",
   "id": "54ce799f",
   "metadata": {},
   "source": [
    "welp looks like to use a persian wordcloud my dataframe needs to turn back into its origin...a txt file.\n"
   ]
  },
  {
   "cell_type": "code",
   "execution_count": 8,
   "id": "4dff09f3",
   "metadata": {},
   "outputs": [],
   "source": [
    "f = open(\"text.txt\", \"a\")"
   ]
  },
  {
   "cell_type": "code",
   "execution_count": 9,
   "id": "4b770056",
   "metadata": {},
   "outputs": [],
   "source": [
    "np.savetxt(r'C:\\Users\\nel_1\\OneDrive\\Documents\\projects\\edited github for resume\\rap\\.ipynb_checkpoints\\text.txt', rap_lyrics.values, fmt='%s',encoding=\"utf8\")\n",
    "with open('per_rap.txt', encoding=\"utf8\") as file:\n",
    "    text = file.read()   "
   ]
  },
  {
   "attachments": {},
   "cell_type": "markdown",
   "id": "6389c430",
   "metadata": {},
   "source": [
    "### Result:\n",
    "\n",
    "YES finally, now let's reveal the most common words used by Iranian rappers.\n",
    "\n"
   ]
  },
  {
   "cell_type": "code",
   "execution_count": 10,
   "id": "8e6cd918",
   "metadata": {},
   "outputs": [],
   "source": [
    "\n",
    "\n",
    "wc = WordCloudFa(collocations=False,background_color=\"white\")\n",
    "word_cloud = wc.generate(text)\n",
    "image = word_cloud.to_image()\n",
    "image.show()\n",
    "image.save('persian-example.png')"
   ]
  },
  {
   "cell_type": "code",
   "execution_count": 13,
   "id": "f9b913b5",
   "metadata": {},
   "outputs": [
    {
     "data": {
      "text/html": [
       "<img src=\"persian-example.png\" width=\"500\" height=\"300\"/>"
      ],
      "text/plain": [
       "<IPython.core.display.Image object>"
      ]
     },
     "execution_count": 13,
     "metadata": {},
     "output_type": "execute_result"
    }
   ],
   "source": [
    "Image(url=\"persian-example.png\", width=500, height=300)"
   ]
  },
  {
   "attachments": {},
   "cell_type": "markdown",
   "id": "20af89a0",
   "metadata": {},
   "source": [
    "Well, I’m actually surprised by the lack of curse words,\n",
    "the most common words used are the world, home, heart, tomorrow, alone, and for some reason foot.<br>\n",
    "I’m not even going to try and use translate() on my file, because I know it will be far from accurate\n"
   ]
  }
 ],
 "metadata": {
  "kernelspec": {
   "display_name": "Python 3",
   "language": "python",
   "name": "python3"
  },
  "language_info": {
   "codemirror_mode": {
    "name": "ipython",
    "version": 3
   },
   "file_extension": ".py",
   "mimetype": "text/x-python",
   "name": "python",
   "nbconvert_exporter": "python",
   "pygments_lexer": "ipython3",
   "version": "3.10.9"
  },
  "vscode": {
   "interpreter": {
    "hash": "afb617c5004eb51001b1261fe8fb1e311bfd962946fd4f9d54afee99a9ffc8a3"
   }
  }
 },
 "nbformat": 4,
 "nbformat_minor": 5
}
